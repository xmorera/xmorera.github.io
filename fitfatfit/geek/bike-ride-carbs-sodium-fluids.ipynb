{
 "cells": [
  {
   "cell_type": "markdown",
   "id": "122e3538",
   "metadata": {},
   "source": [
    "# Calculating Required Carbs, Sodium, and Fluids During Bike Rides\n"
   ]
  },
  {
   "cell_type": "markdown",
   "id": "10679172",
   "metadata": {},
   "source": [
    "During long or intense bike rides, carbohydrates, sodium, and fluids are crucial for maintaining energy, preventing cramps, and avoiding dehydration. Here’s why each one is important:\n",
    "\n",
    "### 1. **Carbohydrates**: \n",
    "Carbohydrates are the primary source of energy for your muscles during cycling. When you cycle, your body breaks down carbs into glucose, which fuels your muscles and brain. The stored form of glucose, glycogen, is found in the liver and muscles, and it provides energy for sustained efforts. However, glycogen stores are limited and can deplete after about 90 minutes of moderate-to-high-intensity exercise. \n",
    "\n",
    "If you don’t replenish carbohydrates:\n",
    "- You risk \"bonking\" or \"hitting the wall,\" where energy levels plummet and performance declines sharply.\n",
    "- Fatigue sets in faster, and recovery after the ride becomes more difficult.\n",
    "\n",
    "**Why it's important**: Consuming 30–60 grams of carbs per hour during a ride helps maintain your blood glucose levels, ensuring that your muscles continue to function efficiently.\n",
    "\n",
    "### 2. **Sodium**:\n",
    "Sodium is one of the key electrolytes lost through sweat during exercise. It plays a critical role in maintaining fluid balance, nerve function, and muscle contractions. A deficiency in sodium can lead to muscle cramps, dehydration, and even hyponatremia (dangerously low sodium levels in the blood). Replenishing sodium during longer rides (especially in hot conditions) is important to:\n",
    "\n",
    "- Prevent cramps that result from electrolyte imbalances.\n",
    "- Maintain nerve function for muscle coordination.\n",
    "- Help the body retain water and prevent dehydration.\n",
    "\n",
    "**Why it's important**: Since cycling causes significant sweating, sodium needs to be replenished to maintain electrolyte balance, which is vital for muscle function and preventing dehydration.\n",
    "\n",
    "### 3. **Fluids (Water)**\n",
    "Hydration is crucial to prevent dehydration and ensure proper bodily functions during cycling. Sweating leads to a loss of fluids, and if you don't replace them, your body’s ability to regulate temperature decreases, and your blood volume can drop, leading to decreased oxygen delivery to your muscles. Dehydration negatively impacts performance and can lead to:\n",
    "\n",
    "- Increased heart rate.\n",
    "- Reduced endurance and strength.\n",
    "- Heat exhaustion or heat stroke in extreme cases.\n",
    "- Slower recovery after exercise.\n",
    "\n",
    "**Why it's important**: Drinking water (or electrolyte drinks) helps maintain hydration levels, prevents overheating, and ensures that your muscles receive enough oxygen for sustained performance.\n",
    "\n",
    "### Summary:\n",
    "- **Carbohydrates**: Provide the necessary fuel to keep your muscles working and prevent fatigue.\n",
    "- **Sodium**: Replaces the electrolytes lost in sweat, ensuring proper muscle function and fluid retention.\n",
    "- **Fluids**: Hydrate the body, prevent overheating, and support optimal performance during long rides.\n",
    "\n",
    "Each of these elements plays a vital role in helping you maintain performance, avoid fatigue, and recover effectively after long rides."
   ]
  },
  {
   "cell_type": "markdown",
   "id": "9cf1a0ff",
   "metadata": {},
   "source": [
    "Weight and muscular mass can significantly affect the required intake of carbohydrates, sodium, and fluids during exercise, including cycling. Here’s how:\n",
    "\n",
    "### **1. Carbohydrates:**\n",
    "- **Weight:** Heavier individuals typically burn more calories, which may require higher carbohydrate intake to sustain energy levels. Muscle mass also contributes to increased calorie expenditure because muscles are metabolically active.\n",
    "- **Muscle Mass:** More muscle mass requires more energy to fuel, meaning a cyclist with higher muscle mass may need to consume more carbohydrates to avoid glycogen depletion during long or intense rides.\n",
    "\n",
    "### **2. Sodium:**\n",
    "- **Weight and Muscle Mass:** Sodium loss is more related to sweat rate than directly to body weight or muscle mass. However, heavier individuals or those with more muscle mass might have a higher sweat rate due to increased exertion, requiring higher sodium intake. Some athletes naturally lose more sodium in sweat (called \"salty sweaters\") and may need more than others.\n",
    "\n",
    "### **3. Fluids:**\n",
    "- **Weight:** Heavier or more muscular cyclists may sweat more due to the higher exertion needed to move a larger mass, leading to greater fluid loss.\n",
    "- **Muscle Mass:** Muscles generate heat during exercise, so more muscle mass can contribute to increased body heat, causing more sweating and fluid loss. This would necessitate more fluid intake to avoid dehydration.\n",
    "\n",
    "### **Personalized Adjustment Formula:**\n",
    "While the general guidelines (30–60g of carbs, 500–1,000 mg of sodium, 500–1,000 ml of fluids per hour) are a good starting point, athletes with more muscle mass or higher body weight may need to adjust these based on their own experiences.\n",
    "\n",
    "For a more precise estimate:\n",
    "- **Carbs**: 0.7–1.0 grams of carbs per kg of body weight per hour.\n",
    "- **Sodium and Fluids**: Can be adjusted by monitoring personal sweat rate (weighing yourself before and after rides can help) and how you feel (e.g., cramping, dehydration).\n",
    "\n",
    "Would you like to adjust the formula further based on your weight and muscle mass?"
   ]
  },
  {
   "cell_type": "code",
   "execution_count": null,
   "id": "3303a98e",
   "metadata": {
    "vscode": {
     "languageId": "plaintext"
    }
   },
   "outputs": [],
   "source": [
    "# Define a function to calculate carbs, sodium, and fluids based on weight, sweat rate, and muscle mass\n",
    "def calculate_personalized_nutrition(weight_kg, duration_hours, sweat_rate_lph, muscle_mass_factor=1):\n",
    "    # Carbs: 0.7 to 1.0 g per kg of body weight per hour\n",
    "    carbs_per_kg_min = 0.7\n",
    "    carbs_per_kg_max = 1.0\n",
    "    \n",
    "    # Sodium: 500 to 1000 mg per liter of sweat lost\n",
    "    sodium_per_liter_min = 500\n",
    "    sodium_per_liter_max = 1000\n",
    "    \n",
    "    # Fluids: 0.4 to 0.8 liters (400 to 800 ml) per kg of body weight per hour\n",
    "    fluids_per_kg_min = 0.4\n",
    "    fluids_per_kg_max = 0.8\n",
    "    \n",
    "    # Adjusted by muscle mass factor (1 is baseline, more muscle could increase intake)\n",
    "    \n",
    "    # Calculate carbs intake\n",
    "    total_carbs_min = carbs_per_kg_min * weight_kg * duration_hours * muscle_mass_factor\n",
    "    total_carbs_max = carbs_per_kg_max * weight_kg * duration_hours * muscle_mass_factor\n",
    "    \n",
    "    # Calculate sodium intake (sweat rate assumed in liters per hour)\n",
    "    total_sodium_min = sweat_rate_lph * sodium_per_liter_min * duration_hours\n",
    "    total_sodium_max = sweat_rate_lph * sodium_per_liter_max * duration_hours\n",
    "    \n",
    "    # Calculate fluids intake\n",
    "    total_fluids_min = fluids_per_kg_min * weight_kg * duration_hours * muscle_mass_factor * 1000  # convert to ml\n",
    "    total_fluids_max = fluids_per_kg_max * weight_kg * duration_hours * muscle_mass_factor * 1000  # convert to ml\n",
    "    \n",
    "    return {\n",
    "        \"duration_hours\": duration_hours,\n",
    "        \"carbs_min\": total_carbs_min,\n",
    "        \"carbs_max\": total_carbs_max,\n",
    "        \"sodium_min\": total_sodium_min,\n",
    "        \"sodium_max\": total_sodium_max,\n",
    "        \"fluids_min\": total_fluids_min,\n",
    "        \"fluids_max\": total_fluids_max\n",
    "    }\n",
    "\n",
    "# Example usage:\n",
    "weight_kg = 77\n",
    "duration_hours = 1\n",
    "sweat_rate_lph = 1  # 1 liter of sweat per hour\n",
    "muscle_mass_factor = 1  # Baseline muscle mass\n",
    "\n",
    "nutrition = calculate_personalized_nutrition(weight_kg, duration_hours, sweat_rate_lph, muscle_mass_factor)\n",
    "print(nutrition)\n"
   ]
  }
 ],
 "metadata": {
  "kernelspec": {
   "display_name": "Python 3 (ipykernel)",
   "language": "python",
   "name": "python3"
  },
  "language_info": {
   "codemirror_mode": {
    "name": "ipython",
    "version": 3
   },
   "file_extension": ".py",
   "mimetype": "text/x-python",
   "name": "python",
   "nbconvert_exporter": "python",
   "pygments_lexer": "ipython3",
   "version": "3.12.6"
  }
 },
 "nbformat": 4,
 "nbformat_minor": 5
}
