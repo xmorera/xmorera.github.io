{
 "cells": [
  {
   "cell_type": "markdown",
   "id": "2976378b",
   "metadata": {},
   "source": [
    "# Calculating Calories Burned During Exercise\n",
    "\n",
    "I love bike riding. Full stop. But my first few rides where pretty short, a notable one being a 6 km ride where I felt like I was going to die. If someone asked me, I would've said RPE of a thousand... maybe? (Yeah... it is supposed to go to ten).\n",
    "\n",
    "I used to get a lot of cramps. A lot. Sometimes I was riding feeling like a king (the slowest one and quite round at that time) and 0.05 seconds later it was as if I injected viagra into my leg muscles. Check out the pic below from Volcano. That pic was taken with about a 3 second difference.\n",
    "\n",
    "![](./images/cramping.png)\n",
    "\n",
    "But that is a story which I will cover some other day. "
   ]
  },
  {
   "cell_type": "markdown",
   "id": "9a94e8bf",
   "metadata": {},
   "source": [
    "What I am trying to learn now is how much calories I need to consume during rides to avoid bonking. Of course I need to take into account carbs, sodium, and liquids. But for today, I'll focus on calories.\n",
    "\n",
    "The amount of calories you burn during exercise depend on many factors, including your: \n",
    "- Size (or body weight)\n",
    "- Fitness\n",
    "- Efficiency\n",
    "- Duration of the exercise\n",
    "\n",
    "In this exercise I am going to estimate how many calories I burn per hour, using an example of a ride with where the terrain was pretty flat and it was a somewhat constant effort.\n",
    "\n",
    "I am going to use several different methodologies as a comparison point and will finish with the one from *Feed Zone Portables*. Strava had my heart rate, the power meter, weight, and exact speed so I would like to think it is the most accurate. By using all the other formulas I will get a feel into how precise they are.\n",
    "\n",
    "I asked ChatGPT and Copilot for information on which are the formulas that are commonly used to estimate calories burned. Here are the formulas ChatGPT suggested:\n",
    "\n",
    "![](./images/chatgptformulas.png)\n",
    "\n",
    "Regarding the book, I am reading it to learn more about nutrition during rides and it has a formula that I want to test out.\n",
    "\n"
   ]
  },
  {
   "cell_type": "markdown",
   "id": "6ce2a304",
   "metadata": {},
   "source": [
    "## The Ride\n",
    "Ticaban, which is a plain in the northern part of Costa Rica where we did 3 rounds with a motivated peloton, which meant the speed was pretty constant. \n",
    "https://www.strava.com/activities/11225188919.  \n",
    "\n",
    "![](./images/ticaban-11225188919.png)\n",
    "\n",
    "## The Stats\n",
    "I have a powermeter and heart rate date, which means I have a decent amount of data to play with. Since it is pretty flat, it is a good point for calculations. How flat? An elevation gain of just 249 meters (817 feet) over 122 kms (76 miles).\n",
    "\n",
    "According to Strava, I burned 2,199 calories and a total work of 2,250 kJ, with a weighted average power of 196 W and average power of 178 W.\n",
    "\n",
    "Let's create the variables with the data:"
   ]
  },
  {
   "cell_type": "code",
   "execution_count": 47,
   "id": "fdd1dd3a",
   "metadata": {},
   "outputs": [],
   "source": [
    "# The Data\n",
    "\n",
    "# 121.83 kms (76 miles)\n",
    "distance_meters = 121830\n",
    "distance_kilometers = distance_meters / 1000\n",
    "\n",
    "# 3 hours, 30 minutes, 17 seconds is equilavent to 12617 seconds\n",
    "duration_moving_time_seconds = 12617\n",
    "duration_moving_time_minutes = duration_moving_time_seconds / 60\n",
    "\n",
    "# Elevation gain in meters\n",
    "elevation_gain_m = 249\n",
    "\n",
    "# Total work in kilojoules\n",
    "work_kilojoules = 2250\n",
    "\n",
    "# Calories burned according to Strava   \n",
    "calories_strava = 2199 \n",
    "\n",
    "# Average speed in km/h\n",
    "average_speed_km_hour = 38.4\n",
    "\n",
    "# Average power in watts\n",
    "average_power_watts = 178\n",
    "\n",
    "# Weighted average power in watts\n",
    "average_power_watts_weighted = 196\n",
    "\n",
    "# Average heart rate in beats per minute\n",
    "average_heart_rate_bpm = 149\n",
    "\n",
    "# Temperature in celsius\n",
    "temperature_celsius = 26\n",
    "\n",
    "# My age\n",
    "age = 46\n",
    "\n",
    "# My weight at Ticaban\n",
    "weight_ticaban_kg = 77.5 \n",
    "\n",
    "# My current weight\n",
    "weight_kg = 69"
   ]
  },
  {
   "cell_type": "markdown",
   "id": "91e3e2d7",
   "metadata": {},
   "source": [
    "## Strava Calculation\n",
    "According to Strava, I burned 2199 calories. But what if I calculated it myself using these variables?"
   ]
  },
  {
   "cell_type": "code",
   "execution_count": 48,
   "id": "d1a7bb62",
   "metadata": {},
   "outputs": [],
   "source": [
    "def strava_calories_estimate(weight_kg, age, distance_km, moving_time_seconds, elevation_gain_m, avg_hr=None, avg_power=None, avg_speed_kmh=None):\n",
    "    \"\"\"\n",
    "    Estimates calories burned using Strava's methodology.\n",
    "    \n",
    "    Parameters:\n",
    "    - weight_kg: Body weight in kilograms\n",
    "    - age: Age in years\n",
    "    - distance_km: Distance covered in kilometers\n",
    "    - moving_time_seconds: Moving time in seconds\n",
    "    - elevation_gain_m: Elevation gain in meters\n",
    "    - avg_hr: Average heart rate in beats per minute (optional)\n",
    "    - avg_power: Weighted average power in watts (optional)\n",
    "    - avg_speed_kmh: Average speed in kilometers per hour (optional)\n",
    "    \n",
    "    Returns:\n",
    "    - Estimated calories burned\n",
    "    \"\"\"\n",
    "    # Convert moving time to hours\n",
    "    moving_time_hours = moving_time_seconds / 3600\n",
    "    \n",
    "    # Priority 1: Use power data if available\n",
    "    if avg_power is not None:\n",
    "        calories = avg_power * 3.6 * moving_time_hours\n",
    "        return calories\n",
    "\n",
    "    # Priority 2: Use heart rate data if available\n",
    "    if avg_hr is not None:\n",
    "        # Simple heart rate-based estimation\n",
    "        # Using a basic formula: HRmax for males: 220 - age, use 70-85% effort for moderate cycling\n",
    "        hr_max = 220 - age\n",
    "        intensity_factor = (avg_hr / hr_max)  # Proportion of HRmax\n",
    "        # Approximation: calories per minute based on intensity\n",
    "        calories_per_minute = (8 + (intensity_factor * 10)) * weight_kg / 60\n",
    "        calories = calories_per_minute * (moving_time_seconds / 60)\n",
    "        return calories\n",
    "    \n",
    "    # Priority 3: Use MET values based on average speed if no heart rate or power\n",
    "    if avg_speed_kmh is not None:\n",
    "        if avg_speed_kmh < 10:\n",
    "            met_value = 4.0  # light effort\n",
    "        elif avg_speed_kmh < 13:\n",
    "            met_value = 6.8  # moderate effort\n",
    "        elif avg_speed_kmh < 16:\n",
    "            met_value = 8.0  # vigorous effort\n",
    "        else:\n",
    "            met_value = 10.0  # very vigorous effort\n",
    "        \n",
    "        calories = met_value * weight_kg * moving_time_hours\n",
    "        return calories\n",
    "    \n",
    "    # If no data available, return 0\n",
    "    return 0"
   ]
  },
  {
   "cell_type": "markdown",
   "id": "5a654924",
   "metadata": {},
   "source": [
    "Using the formula above, I made the two calculations and got the following results which are quite close to the *2199* calories that Strava calculated:\n",
    "- I burned *2245.83* calories, if I used average power\n",
    "- However, if I used *weighted* average power, the calculation was slightly higher and came out at *2472.93* calories\n",
    "\n",
    "What is weighted average power?\n",
    "Weighted average power (also known as Normalized Power) adjusts for intensity changes, giving more weight to harder efforts. It better reflects the physiological cost of the ride, especially during variable efforts like intervals or races. Thus, weighted average power is a more accurate measure of the ride's true intensity and stress on the body.\n",
    "\n",
    "In this case I had opened my mouth and asked a couple of my friends (that are waaaay better than me) to just go ahead and kill me. They _almost_ succeeded! hehe\n",
    "\n",
    "Needless to say, this ride is quite particular because of how flat the terrain is. Going uphill will burn more calories and will be harder to estimate, but for all intents and purposes what I want is to *learn how to calculate within reasonable limits how much calories I need to take on my longer rides*."
   ]
  },
  {
   "cell_type": "code",
   "execution_count": 51,
   "id": "a18adb8e",
   "metadata": {},
   "outputs": [
    {
     "name": "stdout",
     "output_type": "stream",
     "text": [
      "Calories burned using Strava calculation and average power: 2245.83\n",
      "Calories burned using Strava calculation and average power: 2472.93\n"
     ]
    }
   ],
   "source": [
    "# Example usage with the provided data using the formula I found on the internet for Strava\n",
    "calories_burned = strava_calories_estimate(weight_ticaban_kg, age, distance_kilometers, duration_moving_time_seconds, elevation_gain_m, average_heart_rate_bpm, average_power_watts, average_speed_km_hour)\n",
    "print(f\"Calories burned using Strava calculation and average power: {calories_burned:.2f}\")\n",
    "\n",
    "calories_burned = strava_calories_estimate(weight_ticaban_kg, age, distance_kilometers, duration_moving_time_seconds, elevation_gain_m, average_heart_rate_bpm, average_power_watts_weighted, average_speed_km_hour)\n",
    "print(f\"Calories burned using Strava calculation and weighted average power: {calories_burned:.2f}\")"
   ]
  },
  {
   "cell_type": "markdown",
   "id": "2e795985",
   "metadata": {},
   "source": [
    "So this formula is pretty decent for this particular ride, but what if I test it on a ride with a good elevation gain, like for example the Alto de Letras? (Which is the world's biggest climb, according to GCN: https://www.youtube.com/watch?v=WIdpuVGO5zY)\n",
    "\n",
    "Let's try it out.\n",
    "\n",
    "![](./images/strava_letras.png)\n",
    "\n",
    "According to Strava I burned *4713* calories which is really close to the *4776* calories estimated using the formula above.\n",
    "\n",
    "_Conclusion: Apparently, regarldess of whether it is a flat ride or the biggest climb in the world, the formula is decently accurate._\n",
    "\n",
    "Disclaimer: I am not a sports coach, nutritionist or someone who specializes in these fields. I am a computer programmer, who was pretty obese + couldn't ride much and now I am very interested in learning about all this to become a better bike rider, be fit, and enjoy life.\n",
    "\n",
    "Understanding the underlying science definitively gives me an edge so that I avoid the mistakes I used to make. For example, I used to stop at McDonalds to refuel. Yeah... don't judge me."
   ]
  },
  {
   "cell_type": "code",
   "execution_count": 52,
   "id": "c1ed38a1",
   "metadata": {},
   "outputs": [
    {
     "name": "stdout",
     "output_type": "stream",
     "text": [
      "Calories burned using Strava calculation and average power for Alto de Letras: 4776.10\n"
     ]
    }
   ],
   "source": [
    "calories_burned = strava_calories_estimate(73.5, 46, 164.29, 34115, 4577, 134, 140, 17.3)\n",
    "print(f\"Calories burned using Strava calculation and average power for Alto de Letras: {calories_burned:.2f}\")"
   ]
  },
  {
   "cell_type": "markdown",
   "id": "1b27acb8",
   "metadata": {},
   "source": [
    "2. Keytel Formula\n",
    "The Keytel 2005 formula is a method used to estimate the number of calories burned during physical activity, particularly in running or walking. It was developed by Keytel et al. in 2005 as a way to improve upon earlier models by taking into account more variables such as heart rate, age, weight, gender, and the type of activity being performed.\n",
    "\n",
    "The formula is as follows:\n",
    "\n",
    "For men: \n",
    "\n",
    "![](./images/keytelmen.png)\n",
    "​\n",
    "\n",
    "For women: \n",
    "\n",
    "![](./images/keytelmen.png)\n",
    " \n",
    "\n",
    "Where:\n",
    "\n",
    "* HR is the heart rate in beats per minute\n",
    "* Weight is the body weight in kilograms\n",
    "* Age is the person's age in years\n",
    "* T is the time of exercise in minutes\n",
    "* 4.184 is the conversion factor to convert from kilocalories (kcal) to kilojoules (kJ)\n",
    "* This formula is used in fitness trackers and other systems to provide more accurate calorie expenditure estimates during workouts.\n",
    "\n",
    "Key Differences Between the Formulas:\n",
    "* Heart Rate Coefficient: Men have a higher coefficient (0.6309) than women (0.4472), indicating that heart rate impacts calorie burn more for men.\n",
    "* Weight Coefficient: Men also have a higher weight coefficient (0.1988) compared to women (0.1263).\n",
    "* Age Coefficient: Age has a greater impact on men (0.2017) than on women (0.074).\n",
    "\n",
    "These formulas adjust for individual factors like weight, heart rate, and age, making them more personalized for estimating calorie expenditure during physical activity."
   ]
  },
  {
   "cell_type": "code",
   "execution_count": 44,
   "id": "f924daf5",
   "metadata": {},
   "outputs": [],
   "source": [
    "def keytel_2005_cycling(gender, heart_rate, weight_kg, age, time_minutes):\n",
    "    \"\"\"\n",
    "    Calculate calories burned during cycling using the Keytel 2005 formula.\n",
    "\n",
    "    Parameters:\n",
    "    gender (str): 'male' or 'female'\n",
    "    heart_rate (float): Heart rate in beats per minute (bpm)\n",
    "    weight_kg (float): Weight of the individual in kilograms\n",
    "    age (int): Age of the individual in years\n",
    "    time_minutes (float): Duration of exercise in minutes\n",
    "\n",
    "    Returns:\n",
    "    float: Estimated calories burned\n",
    "    \"\"\"\n",
    "    if gender.lower() == 'male':\n",
    "        calories_burned = (-55.0969 + (0.6309 * heart_rate) + (0.1988 * weight_kg) + (0.2017 * age)) * (time_minutes / 4.184)\n",
    "    elif gender.lower() == 'female':\n",
    "        calories_burned = (-20.4022 + (0.4472 * heart_rate) + (0.1263 * weight_kg) + (0.074 * age)) * (time_minutes / 4.184)\n",
    "    else:\n",
    "        raise ValueError(\"Gender must be either 'male' or 'female'\")\n",
    "    \n",
    "    print(f\"Calories burned: {calories_burned:.2f}\")\n",
    "    return calories_burned\n"
   ]
  },
  {
   "cell_type": "markdown",
   "id": "48363164",
   "metadata": {},
   "source": [
    "X. Calculator.net\n",
    "\n",
    "I used this online calculator to determine a rough estimate. \n",
    "\n",
    "![](./images/calculatordotnet.png)\n",
    "\n",
    "Use this URL to get the calculation: [https://www.calculator.net/calories-burned-calculator.html?c2activity=b&c2speed=34.8&c2speedunit=kph&c2distance=121.83&c2distanceunit=k&c2weight=77&c2weightunit=k&ctype=2&x=Calculate#bydistance](https://www.calculator.net/calories-burned-calculator.html?c2activity=b&c2speed=34.8&c2speedunit=kph&c2distance=121.83&c2distanceunit=k&c2weight=77&c2weightunit=k&ctype=2&x=Calculate#bydistance)"
   ]
  },
  {
   "cell_type": "code",
   "execution_count": 45,
   "id": "8cbdacce",
   "metadata": {},
   "outputs": [],
   "source": [
    "calories_calculatordotnet = 4722"
   ]
  },
  {
   "cell_type": "markdown",
   "id": "036179d2",
   "metadata": {},
   "source": [
    "## Final Calculations"
   ]
  },
  {
   "cell_type": "code",
   "execution_count": 46,
   "id": "16955544",
   "metadata": {},
   "outputs": [
    {
     "ename": "SyntaxError",
     "evalue": "invalid syntax (3487549304.py, line 2)",
     "output_type": "error",
     "traceback": [
      "\u001b[1;36m  Cell \u001b[1;32mIn[46], line 2\u001b[1;36m\u001b[0m\n\u001b[1;33m    calculated_calories_strava =\u001b[0m\n\u001b[1;37m                                 ^\u001b[0m\n\u001b[1;31mSyntaxError\u001b[0m\u001b[1;31m:\u001b[0m invalid syntax\n"
     ]
    }
   ],
   "source": [
    "# Calculate the calories burned using the different formulas\n",
    "calculated_calories_strava = \n",
    "calculated_calories_keytel = keytel_2005_cycling('male', average_heart_rate_bpm, weight_ticaban_kg, age, duration_moving_time_minutes)\n"
   ]
  },
  {
   "cell_type": "code",
   "execution_count": null,
   "id": "bc23fd3f",
   "metadata": {},
   "outputs": [],
   "source": [
    "print(\"Calories Burned Calcuation\")\n",
    "print(f\"Strava: {calories_strava}\")\n",
    "\n",
    "calories_burned = strava_calories_estimate(weight_ticaban_kg, age, distance_kilometers, duration_moving_time_seconds, elevation_gain_m, average_heart_rate_bpm, average_power_watts, average_speed_km_hour)\n",
    "\n",
    "\n",
    "print(\"Keytel \" + str(calories_keytel_chatgpt))\n",
    "print(\"Calculator.net \" + str(calories_keytel_copilot))\n",
    " "
   ]
  }
 ],
 "metadata": {
  "kernelspec": {
   "display_name": "Python 3 (ipykernel)",
   "language": "python",
   "name": "python3"
  },
  "language_info": {
   "codemirror_mode": {
    "name": "ipython",
    "version": 3
   },
   "file_extension": ".py",
   "mimetype": "text/x-python",
   "name": "python",
   "nbconvert_exporter": "python",
   "pygments_lexer": "ipython3",
   "version": "3.11.9"
  }
 },
 "nbformat": 4,
 "nbformat_minor": 5
}
