{
 "cells": [
  {
   "cell_type": "markdown",
   "id": "2976378b",
   "metadata": {},
   "source": [
    "# Calculating Calories Burned During Exercise\n",
    "\n",
    "I love bike riding. Full stop. But my first few rides where pretty short, a notable one being a 6 km ride where I felt like I was going to die. If someone asked me, I would've said an RPE (Rate of Perceived Extertion) of a thousand... maybe? (Yeah... I know... it is supposed to go to ten).\n",
    "\n",
    "I used to get a lot of cramps. A lot. Ask my nutritionist, she will have a \"fun\" story. \n",
    "\n",
    "Sometimes I was riding feeling like a king (the slowest one and quite round at that time) and 0.05 seconds later it was as if I injected viagra into my leg muscles. \n",
    "\n",
    "Check out the pics below from Volcano, which were taken with about a 3 second difference.\n",
    "\n",
    "![](./images/cramping.png)\n",
    "\n",
    "But that is a story which I will cover some other day. If you want to learn more about my journey from obese to fit-ish in my middle age, I am writing a book where I tell you what I had to learn to go from 103 kgs to 68 kgs, and going from 6 km rides to comfortably riding 250 kms and more. Maybe what I learned can help you too.\n",
    "\n",
    "Subscribe for updates here: [https://xaviermorera.com/fitfatfit/](https://xaviermorera.com/fitfatfit/)\n",
    "\n",
    "Let's continue. End of shameless plug."
   ]
  },
  {
   "cell_type": "markdown",
   "id": "9a94e8bf",
   "metadata": {},
   "source": [
    "What I am trying to learn now is how much calories I need to consume during rides to avoid bonking. Of course I need to take into account carbs, sodium, and liquids. But for today, I'll focus on calories.\n",
    "\n",
    "The amount of calories you burn during exercise depend on many factors, including your: \n",
    "- Size (or body weight)\n",
    "- Fitness\n",
    "- Efficiency\n",
    "- Duration of the exercise\n",
    "\n",
    "In this exercise I am going to estimate how many calories I burn per hour, using an example of a ride with where the terrain was pretty flat and it was a somewhat constant effort.\n",
    "\n",
    "I am going to use several different methodologies as a comparison point and will finish with the one from *Feed Zone Portables*. Strava had my heart rate, the power meter, weight, and exact speed so I would like to think it is the most accurate. By using all the other formulas I will get a feel into how precise they are.\n",
    "\n",
    "I asked ChatGPT and Copilot for information on which are the formulas that are commonly used to estimate calories burned. Here are the formulas ChatGPT suggested:\n",
    "\n",
    "![](./images/chatgptformulas.png)\n",
    "\n",
    "I'll just try a couple, compare with Strava and then use the one from the *Feed Zone Portables* book, which is what I want to focus on right now. Regarding the book, I am reading it to learn more about nutrition during rides and it has a formula that I want to test out.\n",
    "\n"
   ]
  },
  {
   "cell_type": "markdown",
   "id": "8af2f874",
   "metadata": {},
   "source": [
    "BTW: Why am I learning to calculate calories?\n",
    "\n",
    "First, because knowledge is power. If I can successfully understand what's my required consumption needs I can plan accordingly and get better at biking. That's one of my goals. \n",
    "\n",
    "I started to improve on my bike because I was the last person to always arrive. Always. So far behind that it was not even called \"dropped\". It was as if I was part of another group. Being really overweight and with terrible nutrition is not meant to be on a bike.\n",
    "\n",
    "Now that I can do nice rides, I have many challenges in my future planned. For example, I am starting to prepare to go border to border in Costa Rica, so I need to calculate my fueling needs accurate-enough as it will be around 610 kms: [https://www.strava.com/routes/3253028325114536632](https://www.strava.com/routes/3253028325114536632)\n",
    "\n",
    "![](./images/strava_costarica.png)\n",
    "\n",
    "Now, let's get back to calculating and a bit of programming, for which I am going to use a particular ride to run create the functions, test the formulas and understand how it works."
   ]
  },
  {
   "cell_type": "markdown",
   "id": "6ce2a304",
   "metadata": {},
   "source": [
    "## The Ride\n",
    "Ticaban, which is a plain in the northern part of Costa Rica where we did 3 rounds with a motivated peloton, which meant the speed was pretty constant. \n",
    "https://www.strava.com/activities/11225188919.  \n",
    "\n",
    "![](./images/ticaban-11225188919.png)\n",
    "\n",
    "## The Stats\n",
    "I have a powermeter and heart rate date, which means I have a decent amount of data to play with. Since it is pretty flat, it is a good point for calculations. How flat? An elevation gain of just 249 meters (817 feet) over 122 kms (76 miles).\n",
    "\n",
    "According to Strava, I burned 2,199 calories and a total work of 2,250 kJ, with a weighted average power of 196 W and average power of 178 W.\n",
    "\n",
    "Let's create the variables with the data:"
   ]
  },
  {
   "cell_type": "code",
   "execution_count": 176,
   "id": "fdd1dd3a",
   "metadata": {},
   "outputs": [],
   "source": [
    "# The Data\n",
    "\n",
    "# 121.83 kms (76 miles)\n",
    "distance_meters = 121830\n",
    "distance_kilometers = distance_meters / 1000\n",
    "\n",
    "# 3 hours, 30 minutes, 17 seconds is equilavent to 12617 seconds\n",
    "duration_moving_time_seconds = 12617\n",
    "duration_moving_time_minutes = duration_moving_time_seconds / 60\n",
    "\n",
    "# Elevation gain in meters\n",
    "elevation_gain_m = 249\n",
    "\n",
    "# Total work in kilojoules\n",
    "work_kilojoules = 2250\n",
    "\n",
    "# Calories burned according to Strava   \n",
    "calories_strava = 2199 \n",
    "\n",
    "# Average speed in km/h\n",
    "average_speed_km_hour = 38.4\n",
    "\n",
    "# Average power in watts\n",
    "average_power_watts = 178\n",
    "\n",
    "# Weighted average power in watts\n",
    "average_power_watts_weighted = 196\n",
    "\n",
    "# Average heart rate in beats per minute\n",
    "average_heart_rate_bpm = 149\n",
    "\n",
    "# Temperature in celsius\n",
    "temperature_celsius = 26\n",
    "\n",
    "# My age\n",
    "age = 46\n",
    "\n",
    "# My weight at Ticaban\n",
    "weight_ticaban_kg = 77.5 \n",
    "\n",
    "# My current weight\n",
    "weight_kg = 69"
   ]
  },
  {
   "cell_type": "markdown",
   "id": "91e3e2d7",
   "metadata": {},
   "source": [
    "## 1. Strava-like Formula Calculation on Flat Terrain: Ticaban\n",
    "According to Strava, I burned 2199 calories. But what if I calculated it myself using the data from my rides as variables?\n",
    "\n",
    "Let me start by creating a function that is (in theory) similar to the one that Strava uses. Let's see.\n",
    "\n",
    "_Disclaimer: In theory, theory and practice are the same. But in practice, they are not!_"
   ]
  },
  {
   "cell_type": "code",
   "execution_count": 177,
   "id": "d1a7bb62",
   "metadata": {},
   "outputs": [],
   "source": [
    "def strava_calories_estimate(weight_kg, age, distance_km, moving_time_seconds, elevation_gain_m, avg_hr=None, avg_power=None, avg_speed_kmh=None):\n",
    "    \"\"\"\n",
    "    Estimates calories burned using Strava's methodology.\n",
    "    \n",
    "    Parameters:\n",
    "    - weight_kg: Body weight in kilograms\n",
    "    - age: Age in years\n",
    "    - distance_km: Distance covered in kilometers\n",
    "    - moving_time_seconds: Moving time in seconds\n",
    "    - elevation_gain_m: Elevation gain in meters\n",
    "    - avg_hr: Average heart rate in beats per minute (optional)\n",
    "    - avg_power: Weighted average power in watts (optional)\n",
    "    - avg_speed_kmh: Average speed in kilometers per hour (optional)\n",
    "    \n",
    "    Returns:\n",
    "    - Estimated calories burned\n",
    "    \"\"\"\n",
    "    # Convert moving time to hours\n",
    "    moving_time_hours = moving_time_seconds / 3600\n",
    "    \n",
    "    # Priority 1: Use power data if available\n",
    "    if avg_power is not None:\n",
    "        calories = avg_power * 3.6 * moving_time_hours\n",
    "        return calories\n",
    "\n",
    "    # Priority 2: Use heart rate data if available\n",
    "    if avg_hr is not None:\n",
    "        # Simple heart rate-based estimation\n",
    "        # Using a basic formula: HRmax for males: 220 - age, use 70-85% effort for moderate cycling\n",
    "        hr_max = 220 - age\n",
    "        intensity_factor = (avg_hr / hr_max)  # Proportion of HRmax\n",
    "        # Approximation: calories per minute based on intensity\n",
    "        calories_per_minute = (8 + (intensity_factor * 10)) * weight_kg / 60\n",
    "        calories = calories_per_minute * (moving_time_seconds / 60)\n",
    "        return calories\n",
    "    \n",
    "    # Priority 3: Use MET values based on average speed if no heart rate or power\n",
    "    if avg_speed_kmh is not None:\n",
    "        if avg_speed_kmh < 10:\n",
    "            met_value = 4.0  # light effort\n",
    "        elif avg_speed_kmh < 13:\n",
    "            met_value = 6.8  # moderate effort\n",
    "        elif avg_speed_kmh < 16:\n",
    "            met_value = 8.0  # vigorous effort\n",
    "        else:\n",
    "            met_value = 10.0  # very vigorous effort\n",
    "        \n",
    "        calories = met_value * weight_kg * moving_time_hours\n",
    "        return calories\n",
    "    \n",
    "    # If no data available, return 0\n",
    "    return 0"
   ]
  },
  {
   "cell_type": "markdown",
   "id": "5a654924",
   "metadata": {},
   "source": [
    "Using the function above, I made the two calculations and got the following results which are quite close to the *2199* calories that Strava calculated:\n",
    "- I burned *2245.83* calories, if I used average power\n",
    "- However, if I used *weighted* average power, the calculation was slightly higher and came out at *2472.93* calories\n",
    "\n",
    "What is weighted average power?\n",
    "Weighted average power (also known as Normalized Power) adjusts for intensity changes, giving more weight to harder efforts. It better reflects the physiological cost of the ride, especially during variable efforts like intervals or races. Thus, weighted average power is a more accurate measure of the ride's true intensity and stress on the body.\n",
    "\n",
    "In this case I had opened my mouth and asked a couple of my friends (that are waaaay better than me) to just go ahead and kill me. They _almost_ succeeded! Given my personality, I did this on purpose to spark a flame and create a challenge with Eduardito. It made my day a lot more fun. Also, I got to ride in the peloton with the good guys like Will and Mario.\n",
    "\n",
    "Needless to say, this ride is quite particular because of how flat the terrain is. Going uphill will burn more calories and will be harder to estimate, but for all intents and purposes what I want is to *learn how to calculate within reasonable limits how much calories I need to take on my longer rides*."
   ]
  },
  {
   "cell_type": "code",
   "execution_count": 178,
   "id": "a18adb8e",
   "metadata": {},
   "outputs": [
    {
     "name": "stdout",
     "output_type": "stream",
     "text": [
      "Calories burned using Strava calculation and average power: 2245.83\n",
      "Calories burned using Strava calculation and weighted average power: 2472.93\n"
     ]
    }
   ],
   "source": [
    "# Example usage with the provided data using the formula I found on the internet for Strava\n",
    "calories_strava_estimated_power = strava_calories_estimate(weight_ticaban_kg, age, distance_kilometers, duration_moving_time_seconds, elevation_gain_m, average_heart_rate_bpm, average_power_watts, average_speed_km_hour)\n",
    "print(f\"Calories burned using Strava calculation and average power: {calories_strava_estimated_power:.2f}\")\n",
    "\n",
    "calories_strava_estimated_power_weighted = strava_calories_estimate(weight_ticaban_kg, age, distance_kilometers, duration_moving_time_seconds, elevation_gain_m, average_heart_rate_bpm, average_power_watts_weighted, average_speed_km_hour)\n",
    "print(f\"Calories burned using Strava calculation and weighted average power: {calories_strava_estimated_power_weighted:.2f}\")"
   ]
  },
  {
   "cell_type": "markdown",
   "id": "2e795985",
   "metadata": {},
   "source": [
    "## 2. Strava-Like Formula Calculation on a High Climb\n",
    "\n",
    "So this formula is pretty decent for this particular ride, but what if I test it on a ride with a notable elevation gain (4,577 meters / 15,017 feet), like for example the Alto de Letras? (Which is the world's biggest climb, according to GCN: https://www.youtube.com/watch?v=WIdpuVGO5zY)\n",
    "\n",
    "Let's try it out.\n",
    "\n",
    "![](./images/strava_letras.png)\n",
    "\n",
    "According to Strava I burned *4713* calories which is really close to the *4776* calories estimated using the formula above.\n",
    "\n",
    "**Conclusion: Apparently, regarldess of whether it is a flat ride or the biggest climb in the world, the formula is decently accurate.**\n",
    "\n",
    "_Disclaimer: I am not a sports coach, nutritionist or someone who specializes in these fields. I am a computer programmer, who was pretty obese + couldn't ride much and now I am very interested in learning about all this to become a better bike rider, be fit, and enjoy life._\n",
    "\n",
    "Understanding the underlying science definitively gives me an edge so that I avoid the mistakes I used to make. For example, I used to stop at McDonalds to refuel. Yeah... don't judge me."
   ]
  },
  {
   "cell_type": "code",
   "execution_count": 179,
   "id": "c1ed38a1",
   "metadata": {},
   "outputs": [
    {
     "name": "stdout",
     "output_type": "stream",
     "text": [
      "Calories burned using Strava calculation and average power for Alto de Letras: 4776.10\n"
     ]
    }
   ],
   "source": [
    "calories_burned_alto_letras_calculated = strava_calories_estimate(73.5, 46, 164.29, 34115, 4577, 134, 140, 17.3)\n",
    "print(f\"Calories burned using Strava calculation and average power for Alto de Letras: {calories_burned_alto_letras_calculated:.2f}\")"
   ]
  },
  {
   "cell_type": "markdown",
   "id": "d97551ca",
   "metadata": {},
   "source": [
    "How much is the difference? Let's see a percent difference, for which I will define a function and then calculate."
   ]
  },
  {
   "cell_type": "code",
   "execution_count": 180,
   "id": "968cb6e1",
   "metadata": {},
   "outputs": [],
   "source": [
    "def percent_difference(real_value, calculated_value):\n",
    "    difference = abs(real_value - calculated_value) / ((real_value + calculated_value) / 2) * 100\n",
    "    print(f\"The percent difference between {real_value} and {calculated_value} is {difference:.2f}%\")\n",
    "    return difference"
   ]
  },
  {
   "cell_type": "code",
   "execution_count": 181,
   "id": "f6451f4f",
   "metadata": {},
   "outputs": [
    {
     "name": "stdout",
     "output_type": "stream",
     "text": [
      "The percent difference between 4713 and 4776.1 is 1.33%\n"
     ]
    },
    {
     "data": {
      "text/plain": [
       "1.329946991811665"
      ]
     },
     "execution_count": 181,
     "metadata": {},
     "output_type": "execute_result"
    }
   ],
   "source": [
    "calories_strava_alto_letras_real = 4713\n",
    "percent_difference(calories_strava_alto_letras_real, calories_burned_alto_letras_calculated)"
   ]
  },
  {
   "cell_type": "markdown",
   "id": "1b27acb8",
   "metadata": {},
   "source": [
    "Let's try another one.\n",
    "\n",
    "2. Keytel Formula\n",
    "The Keytel 2005 formula is a method used to estimate the number of calories burned during physical activity, particularly in running or walking. It was developed by Keytel et al. in 2005 as a way to improve upon earlier models by taking into account more variables such as heart rate, age, weight, gender, and the type of activity being performed.\n",
    "\n",
    "You can read more here: [https://pubmed.ncbi.nlm.nih.gov/15966347/](https://pubmed.ncbi.nlm.nih.gov/15966347/)\n",
    "\n",
    "The formula is as follows:\n",
    "\n",
    "For men: \n",
    "\n",
    "![](./images/keytelmen.png)\n",
    "​\n",
    "\n",
    "For women: \n",
    "\n",
    "![](./images/keytelwomen.png)\n",
    " \n",
    "\n",
    "Where:\n",
    "\n",
    "* HR is the heart rate in beats per minute\n",
    "* Weight is the body weight in kilograms\n",
    "* Age is the person's age in years\n",
    "* T is the time of exercise in minutes\n",
    "* 4.184 is the conversion factor to convert from kilocalories (kcal) to kilojoules (kJ)\n",
    "* This formula is used in fitness trackers and other systems to provide more accurate calorie expenditure estimates during workouts.\n",
    "\n",
    "Key Differences Between the Formulas:\n",
    "* Heart Rate Coefficient: Men have a higher coefficient (0.6309) than women (0.4472), indicating that heart rate impacts calorie burn more for men.\n",
    "* Weight Coefficient: Men also have a higher weight coefficient (0.1988) compared to women (0.1263).\n",
    "* Age Coefficient: Age has a greater impact on men (0.2017) than on women (0.074).\n",
    "\n",
    "These formulas adjust for individual factors like weight, heart rate, and age, making them more personalized for estimating calorie expenditure during physical activity."
   ]
  },
  {
   "cell_type": "code",
   "execution_count": 182,
   "id": "f924daf5",
   "metadata": {},
   "outputs": [],
   "source": [
    "def keytel_2005_cycling(gender, heart_rate, weight_kg, age, time_minutes):\n",
    "    \"\"\"\n",
    "    Calculate calories burned during cycling using the Keytel 2005 formula.\n",
    "\n",
    "    Parameters:\n",
    "    gender (str): 'male' or 'female'\n",
    "    heart_rate (float): Heart rate in beats per minute (bpm)\n",
    "    weight_kg (float): Weight of the individual in kilograms\n",
    "    age (int): Age of the individual in years\n",
    "    time_minutes (float): Duration of exercise in minutes\n",
    "\n",
    "    Returns:\n",
    "    float: Estimated calories burned\n",
    "    \"\"\"\n",
    "    if gender.lower() == 'male':\n",
    "        calories_burned = (-55.0969 + (0.6309 * heart_rate) + (0.1988 * weight_kg) + (0.2017 * age)) * (time_minutes / 4.184)\n",
    "    elif gender.lower() == 'female':\n",
    "        calories_burned = (-20.4022 + (0.4472 * heart_rate) + (0.1263 * weight_kg) + (0.074 * age)) * (time_minutes / 4.184)\n",
    "    else:\n",
    "        raise ValueError(\"Gender must be either 'male' or 'female'\")\n",
    "    \n",
    "    # print(f\"Calories burned: {calories_burned:.2f}\")\n",
    "    return calories_burned\n"
   ]
  },
  {
   "cell_type": "markdown",
   "id": "6bba0226",
   "metadata": {},
   "source": [
    "Looking at the results from using the Keytel formula, it tells me I am burning quite a bit more calories than what Strava and my own Strava-like formula tell me, so I a not going use it for my future calculations."
   ]
  },
  {
   "cell_type": "code",
   "execution_count": 183,
   "id": "65b724f7",
   "metadata": {},
   "outputs": [
    {
     "name": "stdout",
     "output_type": "stream",
     "text": [
      "Keytel 3196.0855274059913\n"
     ]
    }
   ],
   "source": [
    "calculated_calories_keytel = keytel_2005_cycling('male', average_heart_rate_bpm, weight_ticaban_kg, age, duration_moving_time_minutes)\n",
    "print(\"Keytel \" + str(calculated_calories_keytel))"
   ]
  },
  {
   "cell_type": "markdown",
   "id": "74bcdc52",
   "metadata": {},
   "source": [
    "How much does Keytel vary from the real data provided by Strava?"
   ]
  },
  {
   "cell_type": "code",
   "execution_count": 184,
   "id": "a12abfa8",
   "metadata": {},
   "outputs": [
    {
     "name": "stdout",
     "output_type": "stream",
     "text": [
      "The percent difference between 2199 and 3196.0855274059913 is 36.96%\n"
     ]
    },
    {
     "data": {
      "text/plain": [
       "36.962732929477745"
      ]
     },
     "execution_count": 184,
     "metadata": {},
     "output_type": "execute_result"
    }
   ],
   "source": [
    "percent_difference(calories_strava, calculated_calories_keytel)"
   ]
  },
  {
   "cell_type": "markdown",
   "id": "48363164",
   "metadata": {},
   "source": [
    "What about quick calculations found on the internet? I\n",
    "\n",
    "## 3. Calculator.net\n",
    "\n",
    "I used this online calculator to determine a rough estimate. It receives very little data as input, so I am pretty skeptic about its results. \n",
    "\n",
    "\n",
    "And as expected, this calculation is pretty off. It is way way way too high. 72% difference is not usable. Oh well, I was just testing.\n",
    "\n",
    "![](./images/calculatordotnet.png)\n",
    "\n",
    "Use this URL to get the calculation: [https://www.calculator.net/calories-burned-calculator.html?c2activity=b&c2speed=34.8&c2speedunit=kph&c2distance=121.83&c2distanceunit=k&c2weight=77&c2weightunit=k&ctype=2&x=Calculate#bydistance](https://www.calculator.net/calories-burned-calculator.html?c2activity=b&c2speed=34.8&c2speedunit=kph&c2distance=121.83&c2distanceunit=k&c2weight=77&c2weightunit=k&ctype=2&x=Calculate#bydistance)"
   ]
  },
  {
   "cell_type": "code",
   "execution_count": 185,
   "id": "8cbdacce",
   "metadata": {},
   "outputs": [
    {
     "name": "stdout",
     "output_type": "stream",
     "text": [
      "The percent difference between 2199 and 4722 is 72.91%\n"
     ]
    },
    {
     "data": {
      "text/plain": [
       "72.9085392284352"
      ]
     },
     "execution_count": 185,
     "metadata": {},
     "output_type": "execute_result"
    }
   ],
   "source": [
    "calories_calculatordotnet = 4722\n",
    "percent_difference(calories_strava, calories_calculatordotnet)"
   ]
  },
  {
   "cell_type": "markdown",
   "id": "965fd7f9",
   "metadata": {},
   "source": [
    "At this point I can keep testing the other methodologies, but since the Strava-like function is close enough, I'll move on into creating the function that uses the formula from Feed Zone Portables."
   ]
  },
  {
   "cell_type": "markdown",
   "id": "230729f5",
   "metadata": {},
   "source": [
    "## 4. Feed Zone Portables\n",
    "Feed zone portables is a book with a whole bunch of recipes for portable snacks that taste good. During my evolution as a (very amateur) cyclist, I started with Gu and McDonalds, then tried out a few different types of gels, and then trained for a while with Gu/Tailwind/Salt Sticks which worked decent enough for me. \n",
    "\n",
    "However, for very long rides my stomach was getting upset from time to time. 6+ hour rides on gels is not fun on your stomach (and backend) the day after.\n",
    "\n",
    "I even decided I was going to fuel my rides only with peanut butter sandwiches and baked potatoes, until I made my calculations and discovered I needed a big backpack to carry like 14 sandwiches and several kilograms of salted baked potatoes.\n",
    "\n",
    "My aim now is to learn how to cook, bake, saute or whatever is needed to create these tasty-looking treats. I am not a great cook, but I can figure it out (usually).\n",
    "\n",
    "So, here I am figuring out right now _how much do I need to prepare for each ride_, which is the other part. More is not that much of an issue, the problem is \"not enough\" as I will bonk. \n",
    "\n",
    "![](./images/calculatingcaloriessetup.png)\n",
    "\n"
   ]
  },
  {
   "cell_type": "markdown",
   "id": "756b1fed",
   "metadata": {},
   "source": [
    "### The Feed Zone Portable Formula\n",
    "The book has a table that tells me how many calories are burned per hour, give the power, speed and KJ. It uses certain correction factors.\n",
    "\n",
    "![](./images/calories_per_hour_burned_fzp.png)\n",
    "\n",
    "I uploaded the table to both ChatGPT and Gemini and asked it to create a formula to make the calculations. \n",
    "\n",
    "Let's test both results. These are the formulas it created:"
   ]
  },
  {
   "cell_type": "code",
   "execution_count": 186,
   "id": "87001d0b",
   "metadata": {},
   "outputs": [],
   "source": [
    "# ChatGPT\n",
    "def calculate_calories_fzp_chatgpt(power_watts, efficiency_percent):\n",
    "    # Lookup table for KJ per hour based on power (watts)\n",
    "    kj_per_hour_table = {\n",
    "        400: 1440,\n",
    "        350: 1260,\n",
    "        300: 1080,\n",
    "        275: 990,\n",
    "        250: 900,\n",
    "        225: 810,\n",
    "        200: 720,\n",
    "        175: 630,\n",
    "        150: 540,\n",
    "        125: 450,\n",
    "        100: 360,\n",
    "        75: 270,\n",
    "        50: 180\n",
    "    }\n",
    "    \n",
    "    # Lookup for correction factors based on efficiency percentage\n",
    "    correction_factors = {\n",
    "        20: 1.19,\n",
    "        21: 1.14,\n",
    "        22: 1.09,\n",
    "        23: 1.04,\n",
    "        24: 1.00,\n",
    "        25: 0.96,\n",
    "        26: 0.92\n",
    "    }\n",
    "    \n",
    "    # Get KJ per hour for the given power in watts\n",
    "    kj_per_hour = kj_per_hour_table.get(power_watts, 0)\n",
    "    \n",
    "    # Get the correction factor based on the efficiency percentage\n",
    "    correction_factor = correction_factors.get(efficiency_percent, 0)\n",
    "    \n",
    "    # Calculate calories burned\n",
    "    calories_burned = kj_per_hour * correction_factor\n",
    "    return calories_burned"
   ]
  },
  {
   "cell_type": "code",
   "execution_count": 187,
   "id": "9ed2f024",
   "metadata": {},
   "outputs": [],
   "source": [
    "# Gemini\n",
    "import pandas as pd\n",
    "\n",
    "def calculate_calories_fzp_gemini(power_watts, speed_mph, kj_per_hour, correction_factor):\n",
    "    \"\"\"\n",
    "    Calculates the estimated calories burned per hour during cycling.\n",
    "\n",
    "    Args:\n",
    "        power_watts: Power output in watts.\n",
    "        speed_mph: Speed in miles per hour.\n",
    "        kj_per_hour: Kilojoules per hour.\n",
    "        correction_factor: Correction factor for converting kilojoules to kilocalories.\n",
    "\n",
    "    Returns:\n",
    "        The estimated calories burned per hour.\n",
    "    \"\"\"\n",
    "\n",
    "    calories_burned = kj_per_hour * correction_factor\n",
    "    return calories_burned"
   ]
  },
  {
   "cell_type": "markdown",
   "id": "ed380fea",
   "metadata": {},
   "source": [
    "To test both, there are a few things that I need to convert as these functions calculate per hour and I want to calculate per the entire ride. \n",
    "\n",
    "But first I will confirm both yield the same results, given the same inputs.\n",
    "\n",
    "I test and indeed they do. The difference is that ChatGPT simplified it by including the kj per hour table and correction factors inside the function while in Gemini I need to pass as parameter.\n",
    "\n",
    "It is worth mentioning that one of the variables used in the calculation is efficiency which means how many of the calories that I take actually get to the pedals.\n",
    "\n",
    "This is exactly the same as the efficiency in a gasoline vehicle, where it is said that only about 20% of the energy from gasoline is used by the wheels to propel the car forward. The rest of the energy is lost/wasted in friction, heat, or something else.\n",
    "\n",
    "It is said that in an average cyclist, the efficiency is 22%. (suprisingly similar to gasoline!)"
   ]
  },
  {
   "cell_type": "code",
   "execution_count": 188,
   "id": "3655cf45",
   "metadata": {},
   "outputs": [
    {
     "name": "stdout",
     "output_type": "stream",
     "text": [
      "Calories burned: 856.80 Kcal (ChatGPT calculation)\n",
      "Calories burned: 856.80 Kcal (Gemini calculation)\n"
     ]
    }
   ],
   "source": [
    "# ChatGPT Sample Usage\n",
    "power = 200  # Power in watts\n",
    "efficiency = 20  # Efficiency percentage\n",
    "calories_fzp_chatgpt = calculate_calories_fzp_chatgpt(power, efficiency)\n",
    "print(f\"Calories burned: {calories_fzp_chatgpt:.2f} Kcal (ChatGPT calculation)\")\n",
    "\n",
    "# Gemini Sample Usage\n",
    "power_watts = 200\n",
    "speed_mph = 20\n",
    "kj_per_hour = 720\n",
    "correction_factor = 1.19\n",
    "\n",
    "calories_fzp_gemini = calculate_calories_fzp_gemini(power_watts, speed_mph, kj_per_hour, correction_factor)\n",
    "print(f\"Calories burned: {calories_fzp_gemini:.2f} Kcal (Gemini calculation)\")"
   ]
  },
  {
   "cell_type": "markdown",
   "id": "06274aa1",
   "metadata": {},
   "source": [
    "Now, I am going to calculate the amount of calories burned for Ticaban using this method. I will use the Gemini function as it receives more parameters."
   ]
  },
  {
   "cell_type": "code",
   "execution_count": 189,
   "id": "3a1e87e1",
   "metadata": {},
   "outputs": [],
   "source": [
    "# Convert avreage speed from km/h to mph\n",
    "average_miles_per_hour_ticaban = average_speed_km_hour / 1.60934\n",
    "\n",
    "# Calculate the KJ per hour for the ride\n",
    "def calculate_kj_per_hour(total_kj, hours, minutes, seconds):\n",
    "    # Convert time to hours\n",
    "    total_time_in_hours = hours + (minutes / 60) + (seconds / 3600)\n",
    "    \n",
    "    # Calculate kJ per hour\n",
    "    kj_per_hour = total_kj / total_time_in_hours\n",
    "    return kj_per_hour\n",
    "\n",
    "# Calculate using Ticaban data\n",
    "kj_per_hour_ticaban = calculate_kj_per_hour(work_kilojoules, 3, 30, 17)\n",
    "# print(f\"KJ per hour for the Ticaban ride: {kj_per_hour_ticaban:.2f}\")\n"
   ]
  },
  {
   "cell_type": "markdown",
   "id": "872cd87e",
   "metadata": {},
   "source": [
    "Now, I need to estimate how many calories are burned per hour and then convert to 3.5 hours.\n",
    "\n",
    "The one variable that I do know  is efficiency, as mentioned above they vary from one person to another.\n",
    "\n",
    "However, there is a formula to calculate it:\n",
    "\n",
    "![](./images/efficiency.png)\n",
    "\n",
    "I tested with several correction factors and found out that using two decimals, I get close enough with 1.92% difference."
   ]
  },
  {
   "cell_type": "code",
   "execution_count": 190,
   "id": "68727516",
   "metadata": {},
   "outputs": [
    {
     "name": "stdout",
     "output_type": "stream",
     "text": [
      "Calories burned per hour for the Ticaban ride: 616.31 Kcal (Feed Zone Portables formula with Gemini function)\n",
      "Total amount of hours burned for the Ticaban ride: 2157.09 Kcal (Feed Zone Portables formula with Gemini function)\n",
      "The percent difference between 2199 and 2157.089640960609 is 1.92%\n"
     ]
    },
    {
     "data": {
      "text/plain": [
       "1.924219311067666"
      ]
     },
     "execution_count": 190,
     "metadata": {},
     "output_type": "execute_result"
    }
   ],
   "source": [
    "# It is required to set the correction factor  \n",
    "correction_factor = 0.96\n",
    "\n",
    "# Calculate calories burned per hour using the Gemini formula\n",
    "calories_burned_per_hour_ticaban = calculate_calories_fzp_gemini(average_power_watts, average_miles_per_hour_ticaban, kj_per_hour_ticaban, correction_factor)\n",
    "\n",
    "print(f\"Calories burned per hour for the Ticaban ride: {calories_burned_per_hour_ticaban:.2f} Kcal (Feed Zone Portables formula with Gemini function)\")\n",
    "\n",
    "# Using 3.5, which does not take into account the 17 seconds because meh...\n",
    "total_calories_burned_ticaban_fzp = calories_burned_per_hour_ticaban * 3.5\n",
    "print(f\"Total amount of hours burned for the Ticaban ride: {total_calories_burned_ticaban_fzp:.2f} Kcal (Feed Zone Portables formula with Gemini function)\")\n",
    "\n",
    "# Difference in calculation\n",
    "percent_difference(calories_strava, total_calories_burned_ticaban_fzp)"
   ]
  },
  {
   "cell_type": "markdown",
   "id": "036179d2",
   "metadata": {},
   "source": [
    "## Final Conclusion\n",
    "Calculating the calories required for a ride has a lot of variables, but by looking at a ride with very flat terrain and constant pace plus comparing with the total opposite, a very long ride with a huge climb and fast descents I could get to the conclusion that it is possible to calculate calorie consumption quite decently with the formula above or the Strava-like one.\n",
    "\n",
    "The formula above worked quite decently for me with an efficiency of 25%, which I think is quite high and probably is not the reality (but dreaming is free).\n",
    "\n",
    "Now I need to learn how to calculate carbs, sodium, and liquid which is another post.\n",
    "\n",
    "Thank you and keep pedaling!"
   ]
  },
  {
   "cell_type": "code",
   "execution_count": 191,
   "id": "16955544",
   "metadata": {},
   "outputs": [],
   "source": [
    "# Calculate the calories burned using the different formulas\n",
    "\n"
   ]
  },
  {
   "cell_type": "code",
   "execution_count": 192,
   "id": "bc23fd3f",
   "metadata": {},
   "outputs": [
    {
     "name": "stdout",
     "output_type": "stream",
     "text": [
      "Calories Burned Calcuation\n",
      "Strava: 2199\n",
      "Calculator.net -810.2823961121734\n"
     ]
    }
   ],
   "source": [
    "print(\"Calories Burned Calcuation\")\n",
    "print(f\"Strava: {calories_strava}\")\n",
    "\n",
    "calories_burned = strava_calories_estimate(weight_ticaban_kg, age, distance_kilometers, duration_moving_time_seconds, elevation_gain_m, average_heart_rate_bpm, average_power_watts, average_speed_km_hour)\n",
    "\n",
    "\n",
    "\n",
    "print(\"Calculator.net \" + str(calories_keytel_copilot))\n",
    " "
   ]
  }
 ],
 "metadata": {
  "kernelspec": {
   "display_name": "Python 3 (ipykernel)",
   "language": "python",
   "name": "python3"
  },
  "language_info": {
   "codemirror_mode": {
    "name": "ipython",
    "version": 3
   },
   "file_extension": ".py",
   "mimetype": "text/x-python",
   "name": "python",
   "nbconvert_exporter": "python",
   "pygments_lexer": "ipython3",
   "version": "3.11.9"
  }
 },
 "nbformat": 4,
 "nbformat_minor": 5
}
